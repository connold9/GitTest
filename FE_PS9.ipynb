{
 "cells": [
  {
   "cell_type": "code",
   "execution_count": 191,
   "metadata": {},
   "outputs": [],
   "source": [
    "import numpy as np\n",
    "import pandas as pd\n",
    "import gurobipy as gb\n",
    "import random\n",
    "import matplotlib.pyplot as plt"
   ]
  },
  {
   "cell_type": "code",
   "execution_count": 100,
   "metadata": {},
   "outputs": [],
   "source": [
    "df = pd.read_csv(\"30_Industry_Portfolios.csv\")\n",
    "df.dropna(inplace = True)\n",
    "col = df.columns.tolist()\n",
    "col[0] = 'date'\n",
    "df.columns = col\n"
   ]
  },
  {
   "cell_type": "code",
   "execution_count": 152,
   "metadata": {},
   "outputs": [],
   "source": [
    "hisret = df[(df['date']>=197701)& (df['date']<=201612)]\n",
    "hisret = hisret.drop('date',axis = 1)\n",
    "industry = hisret.columns\n",
    "sigma = hisret.cov().values\n",
    "n = len(industry)"
   ]
  },
  {
   "cell_type": "markdown",
   "metadata": {},
   "source": [
    "###### part b\n",
    "\\begin{align}\n",
    "    &Min_ {P_1,P_h,x_1,x_h,x_m}\n",
    "    \\begin{aligned}[t]\n",
    "       &-n_1\\bigl(P_1-cx_1^2+\\alpha cf(x_m)\\big) \\\\\n",
    "       &\\qquad-n_h \\bigl(P_h-cx_h^2+\\alpha cf(x_m)\\big)\n",
    "    \\end{aligned} \\notag \\\\\n",
    "    &\\text{subject to} \\notag \\\\\n",
    "    & v_1 (x_1+\\beta_px_m)-P_1\\geq v_1(x_h-\\beta_dx_m)-P_h, \\\\\n",
    "    & v_h (x_h+\\beta_px_m)-P_h\\geq v_h(x_1+\\beta_dx_m)-P_1, \\\\\n",
    "    & v_1 (x_1+\\beta_px_m)\\geq P_1, \\\\\n",
    "    & v_h (x_h-\\beta_dx_m)\\geq P_h, \\\\\n",
    "    & x_h\\geq0,\\quad x_1\\geq0,\\quad x_h\\geq x_m,\\quad x_1\\geq x_m,\n",
    "       \\quad x_m\\geq0.\\notag\n",
    "\\end{align}"
   ]
  },
  {
   "cell_type": "code",
   "execution_count": 153,
   "metadata": {},
   "outputs": [],
   "source": [
    "#optimization\n",
    "m = gb.Model('portfolio')\n",
    "x = m.addVars(range(n),lb = 0,ub = 0.25,name = 'x')\n",
    "y = m.addVars(range(n),lb = 0,ub = 1,obj = 0,vtype = gb.GRB.BINARY,name = 'y')"
   ]
  },
  {
   "cell_type": "code",
   "execution_count": 154,
   "metadata": {},
   "outputs": [],
   "source": [
    "#objective\n",
    "m.setObjective(sum(sum(x[i]*sigma[i][j]*x[j] for j in range(n)) for i in range(n)),sense=gb.GRB.MINIMIZE)\n"
   ]
  },
  {
   "cell_type": "code",
   "execution_count": 155,
   "metadata": {},
   "outputs": [
    {
     "name": "stdout",
     "output_type": "stream",
     "text": [
      "Optimize a model with 32 rows, 60 columns and 120 nonzeros\n",
      "Model has 465 quadratic objective terms\n",
      "Variable types: 30 continuous, 30 integer (30 binary)\n",
      "Coefficient statistics:\n",
      "  Matrix range     [1e+00, 1e+00]\n",
      "  Objective range  [0e+00, 0e+00]\n",
      "  QObjective range [3e+01, 2e+02]\n",
      "  Bounds range     [3e-01, 1e+00]\n",
      "  RHS range        [1e+00, 1e+01]\n",
      "Found heuristic solution: objective 26.1309150\n",
      "Presolve time: 0.00s\n",
      "Presolved: 32 rows, 60 columns, 120 nonzeros\n",
      "Presolved model has 465 quadratic objective terms\n",
      "Variable types: 30 continuous, 30 integer (30 binary)\n",
      "\n",
      "Root relaxation: objective 1.175957e+01, 27 iterations, 0.00 seconds\n",
      "\n",
      "    Nodes    |    Current Node    |     Objective Bounds      |     Work\n",
      " Expl Unexpl |  Obj  Depth IntInf | Incumbent    BestBd   Gap | It/Node Time\n",
      "\n",
      "     0     0   11.75957    0    7   26.13091   11.75957  55.0%     -    0s\n",
      "H    0     0                      11.7595735   11.75957  0.00%     -    0s\n",
      "\n",
      "Explored 1 nodes (27 simplex iterations) in 0.02 seconds\n",
      "Thread count was 4 (of 4 available processors)\n",
      "\n",
      "Solution count 2: 11.7596 26.1309 \n",
      "\n",
      "Optimal solution found (tolerance 1.00e-04)\n",
      "Best objective 1.175957354072e+01, best bound 1.175957354072e+01, gap 0.0000%\n"
     ]
    }
   ],
   "source": [
    "#constraint \n",
    "m.addConstr(sum(x[i] for i in range(n))==1,name = 'weight')\n",
    "m.addConstrs((y[i]>=x[i] for i in range(n)),name='forcex')\n",
    "m.addConstr(sum(y[i] for i in range(n))<=10,name = 'cardinality')\n",
    "m.optimize()"
   ]
  },
  {
   "cell_type": "code",
   "execution_count": 199,
   "metadata": {},
   "outputs": [
    {
     "name": "stdout",
     "output_type": "stream",
     "text": [
      "the minimal variance of the optimization is  11.759573540722249\n"
     ]
    }
   ],
   "source": [
    "#minimize variance \n",
    "print('the minimal variance of the optimization is ',m.objVal)"
   ]
  },
  {
   "cell_type": "code",
   "execution_count": 157,
   "metadata": {},
   "outputs": [
    {
     "name": "stdout",
     "output_type": "stream",
     "text": [
      "Weight of asset Food  =  0.230867\n",
      "Weight of asset Beer  =  0.0176741\n",
      "Weight of asset Smoke =  0\n",
      "Weight of asset Games =  0\n",
      "Weight of asset Books =  0\n",
      "Weight of asset Hshld =  0.195058\n",
      "Weight of asset Clths =  0\n",
      "Weight of asset Hlth  =  0.0421605\n",
      "Weight of asset Chems =  0\n",
      "Weight of asset Txtls =  0\n",
      "Weight of asset Cnstr =  0\n",
      "Weight of asset Steel =  0\n",
      "Weight of asset FabPr =  0\n",
      "Weight of asset ElcEq =  0\n",
      "Weight of asset Autos =  0\n",
      "Weight of asset Carry =  0\n",
      "Weight of asset Mines =  0.019369\n",
      "Weight of asset Coal  =  0\n",
      "Weight of asset Oil   =  0.0889693\n",
      "Weight of asset Util  =  0.25\n",
      "Weight of asset Telcm =  0.155902\n",
      "Weight of asset Servs =  0\n",
      "Weight of asset BusEq =  0\n",
      "Weight of asset Paper =  0\n",
      "Weight of asset Trans =  0\n",
      "Weight of asset Whlsl =  0\n",
      "Weight of asset Rtail =  0\n",
      "Weight of asset Meals =  0\n",
      "Weight of asset Fin   =  0\n",
      "Weight of asset Other =  0\n"
     ]
    }
   ],
   "source": [
    "#asset weight \n",
    "for i in range(n):\n",
    "    print('%s %g' % ('Weight of asset '+industry[i]+' = ',m.getVarByName(\"x[\"+str(i)+\"]\").X))"
   ]
  },
  {
   "cell_type": "code",
   "execution_count": 202,
   "metadata": {},
   "outputs": [
    {
     "data": {
      "image/png": "[encoded data removed]",
      "text/plain": [
       "<Figure size 432x288 with 1 Axes>"
      ]
     },
     "metadata": {
      "needs_background": "light"
     },
     "output_type": "display_data"
    },
    {
     "name": "stdout",
     "output_type": "stream",
     "text": [
      "The average variance of simulated samples of 40 years return is  11.522107441206344\n"
     ]
    }
   ],
   "source": [
    "#d drawing 100 month return with replacement \n",
    "port_var = np.zeros(100)\n",
    "port_weight = m.X[0:n]\n",
    "for i in range(100):\n",
    "    #draw months with replacement\n",
    "    sample = hisret.sample(n=480, replace = True)\n",
    "    new_cov = sample.cov()\n",
    "    port_var[i] = new_cov.dot(port_weight).dot(port_weight)\n",
    "plt.plot(port_var)\n",
    "plt.xlabel('Portfolio Number')\n",
    "plt.ylabel('Portfolio variance')\n",
    "plt.show()\n",
    "print(\"The average variance of simulated samples of 40 years return is \",port_var.mean())"
   ]
  },
  {
   "cell_type": "code",
   "execution_count": 197,
   "metadata": {},
   "outputs": [
    {
     "data": {
      "text/plain": [
       "11.75957354072225"
      ]
     },
     "execution_count": 197,
     "metadata": {},
     "output_type": "execute_result"
    }
   ],
   "source": [
    "#e in sample testing\n",
    "portfolio_weight = m.X[0:n]\n",
    "min_cov = sigma.dot(portfolio_weight).dot(portfolio_weight)\n",
    "min_cov.mean()"
   ]
  },
  {
   "cell_type": "markdown",
   "metadata": {},
   "source": [
    "We can see that the average portfolio variance from 100 simulated sample performance is 11.79, where the optimization minimum variance porfolio gives us a variance of 11.76 which are extremely close to each other. I would conclude that the minimum variance portfolio in 1c provide an unviased estimate of future performance if the correlation strucutre between the stocks doesnt change, then the hisotrical performance can indicate future performance and hedge out the risk to obtain a minimal variance portfolio. However, during market downtime, the correlation of stocks tend to increase significantly, and the prices can fall together, in this case the  past minimal variance portfolio is not a good unbiased estimation of the future as the variance of the entire portfolio will increase significantly due to the high correlations."
   ]
  }
 ],
 "metadata": {
  "kernelspec": {
   "display_name": "Python 3",
   "language": "python",
   "name": "python3"
  },
  "language_info": {
   "codemirror_mode": {
    "name": "ipython",
    "version": 3
   },
   "file_extension": ".py",
   "mimetype": "text/x-python",
   "name": "python",
   "nbconvert_exporter": "python",
   "pygments_lexer": "ipython3",
   "version": "3.7.4"
  }
 },
 "nbformat": 4,
 "nbformat_minor": 2
}
